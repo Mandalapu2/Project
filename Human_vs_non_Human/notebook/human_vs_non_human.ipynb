{
 "cells": [
  {
   "cell_type": "code",
   "execution_count": 20,
   "id": "0c4d552a-4916-478d-b7fd-d26da61219b5",
   "metadata": {},
   "outputs": [],
   "source": [
    "import os\n",
    "import fnmatch\n",
    "import cv2\n",
    "import random\n",
    "from datetime import datetime\n",
    "import numpy as np\n",
    "\n",
    "from sklearn.utils import shuffle"
   ]
  },
  {
   "cell_type": "code",
   "execution_count": 21,
   "id": "d84eaf36-45cb-409c-bdab-0d961250c06d",
   "metadata": {},
   "outputs": [],
   "source": [
    "# # Load the TensorBoard notebook extension\n",
    "# %load_ext tensorboard"
   ]
  },
  {
   "cell_type": "code",
   "execution_count": 22,
   "id": "bf18fe44-7657-4925-a5dd-3834a2edb9aa",
   "metadata": {},
   "outputs": [],
   "source": [
    "from tensorflow.keras.callbacks import TensorBoard\n",
    "from tensorflow.keras.models import Sequential\n",
    "from tensorflow.keras.layers import Conv2D, MaxPooling2D, Flatten, Dense\n",
    "\n",
    "from tensorflow.keras.optimizers import RMSprop, Adam, SGD"
   ]
  },
  {
   "cell_type": "markdown",
   "id": "a2301a5a-a347-4fad-bbb7-a95f24a392d2",
   "metadata": {},
   "source": [
    "# Load images as numpy array"
   ]
  },
  {
   "cell_type": "code",
   "execution_count": 23,
   "id": "2a954517-a0bb-4e25-b360-52bf549db66d",
   "metadata": {},
   "outputs": [],
   "source": [
    "images = {\"human\": {}, \"non-human\": {}}\n",
    "for path, sub_dirs, files in os.walk(\"../data/cropped/16x16\"):\n",
    "    for file in fnmatch.filter(files, \"*.png\"):\n",
    "        file_path = os.path.join(path, file)\n",
    "        img = file_path.split(\"/\")[-1].split(\"_\")[0]\n",
    "        if \"non-human\" in file_path:\n",
    "            images['non-human'].update({img: images['non-human'].get(img, []) + [cv2.imread(file_path)]})\n",
    "        else:\n",
    "            images['human'].update({img: images['human'].get(img, []) + [cv2.imread(file_path)]})"
   ]
  },
  {
   "cell_type": "markdown",
   "id": "a0362a29-7167-4094-b34f-3226d243936e",
   "metadata": {},
   "source": [
    "### Shape of image"
   ]
  },
  {
   "cell_type": "code",
   "execution_count": 24,
   "id": "69088b23-fd41-4d9e-a1f0-b123099389f8",
   "metadata": {},
   "outputs": [
    {
     "data": {
      "text/plain": [
       "(120, 120, 3)"
      ]
     },
     "execution_count": 24,
     "metadata": {},
     "output_type": "execute_result"
    }
   ],
   "source": [
    "in_shape = images['human'][list(images['human'].keys())[0]][0].shape\n",
    "in_shape"
   ]
  },
  {
   "cell_type": "markdown",
   "id": "be3a8a40-4cc6-4d20-ba69-3222bf2d5766",
   "metadata": {},
   "source": [
    "# Hyperparameters"
   ]
  },
  {
   "cell_type": "code",
   "execution_count": 25,
   "id": "0b597b8b-4a78-4f75-b1ab-60910f5845b9",
   "metadata": {},
   "outputs": [],
   "source": [
    "batch_size = 128\n",
    "epochs = 10\n",
    "verbose = 1\n",
    "learning_rate = 0.001\n",
    "# mom = 0.9 # momentum\n",
    "input_shape = in_shape # (120, 120, 3) if 16x16 images selected"
   ]
  },
  {
   "cell_type": "markdown",
   "id": "06ee26e5-a879-4870-8822-980e9dd6ed7a",
   "metadata": {},
   "source": [
    "# Create cross validation set - leave one out"
   ]
  },
  {
   "cell_type": "code",
   "execution_count": 26,
   "id": "9a02b7c5-b44d-4922-8d80-ac45282d80d9",
   "metadata": {},
   "outputs": [],
   "source": [
    "random.seed(1)\n",
    "human_rand = random.sample([i for i in images['human'].keys() if i not in list(images['non-human'].keys())], k = images['non-human'].__len__())\n",
    "dist = []\n",
    "for idx, i in enumerate(list(images['non-human'].keys())):\n",
    "    choices = [i, human_rand[idx]]\n",
    "    rem = list(set(i for k, v in images.items() for i in v.keys() if i not in choices))\n",
    "    dist.append([rem, choices])"
   ]
  },
  {
   "cell_type": "markdown",
   "id": "49e85d75-1430-4c46-b312-29d92b3ebd50",
   "metadata": {},
   "source": [
    "### Now we have seven folds where in each fold, one image from radial and one from non-radial are left out for model evaluation"
   ]
  },
  {
   "cell_type": "markdown",
   "id": "46e7e318-e106-4d09-8842-644a2154f045",
   "metadata": {},
   "source": [
    "# Define the model architecture"
   ]
  },
  {
   "cell_type": "code",
   "execution_count": 27,
   "id": "ce269e7e-de4a-4657-b1ce-13197a0eae7e",
   "metadata": {},
   "outputs": [],
   "source": [
    "cnn_model = Sequential([\n",
    "    Conv2D(8, (3,3), activation='relu', input_shape=in_shape, name=\"CONVOLUTION_2D_1\"),\n",
    "    MaxPooling2D((2,2), name=\"MAXPOOL_2D_1\"),\n",
    "    Conv2D(16, (3,3), activation='relu', name='CONVOLUTION_2D_2'),\n",
    "    MaxPooling2D((2,2), name=\"MAXPOOL_2D_2\"),\n",
    "    Conv2D(32, (3,3), activation='relu', name='CONVOLUTION_2D_3'),\n",
    "    MaxPooling2D((2,2), name=\"MAXPOOL_2D_3\"),\n",
    "    Flatten(name=\"FLATTEN\"),\n",
    "    Dense(256, activation='relu', name=\"DENSE\"),\n",
    "    Dense(1, activation='sigmoid', name=\"SIGMOID\")\n",
    "], name='RADIAL_CNN')"
   ]
  },
  {
   "cell_type": "markdown",
   "id": "7a15e3b5-5c15-46c5-83a3-cbb35fbc144b",
   "metadata": {},
   "source": [
    "# Compile the model"
   ]
  },
  {
   "cell_type": "code",
   "execution_count": 28,
   "id": "1c566452-df2f-4c28-bead-d7f5170982c9",
   "metadata": {},
   "outputs": [
    {
     "name": "stdout",
     "output_type": "stream",
     "text": [
      "Model: \"RADIAL_CNN\"\n",
      "_________________________________________________________________\n",
      " Layer (type)                Output Shape              Param #   \n",
      "=================================================================\n",
      " CONVOLUTION_2D_1 (Conv2D)   (None, 118, 118, 8)       224       \n",
      "                                                                 \n",
      " MAXPOOL_2D_1 (MaxPooling2D)  (None, 59, 59, 8)        0         \n",
      "                                                                 \n",
      " CONVOLUTION_2D_2 (Conv2D)   (None, 57, 57, 16)        1168      \n",
      "                                                                 \n",
      " MAXPOOL_2D_2 (MaxPooling2D)  (None, 28, 28, 16)       0         \n",
      "                                                                 \n",
      " CONVOLUTION_2D_3 (Conv2D)   (None, 26, 26, 32)        4640      \n",
      "                                                                 \n",
      " MAXPOOL_2D_3 (MaxPooling2D)  (None, 13, 13, 32)       0         \n",
      "                                                                 \n",
      " FLATTEN (Flatten)           (None, 5408)              0         \n",
      "                                                                 \n",
      " DENSE (Dense)               (None, 256)               1384704   \n",
      "                                                                 \n",
      " SIGMOID (Dense)             (None, 1)                 257       \n",
      "                                                                 \n",
      "=================================================================\n",
      "Total params: 1,390,993\n",
      "Trainable params: 1,390,993\n",
      "Non-trainable params: 0\n",
      "_________________________________________________________________\n"
     ]
    }
   ],
   "source": [
    "cnn_model.compile(\n",
    "    loss='binary_crossentropy',\n",
    "    optimizer=Adam(lr=learning_rate),\n",
    "    metrics=['accuracy']\n",
    ")\n",
    "cnn_model.summary()"
   ]
  },
  {
   "cell_type": "markdown",
   "id": "7643f5c9-d352-4ed3-8ab7-804813ee75e5",
   "metadata": {},
   "source": [
    "# Define the Keras TensorBoard callback"
   ]
  },
  {
   "cell_type": "code",
   "execution_count": 29,
   "id": "29e76690-7b52-4585-a701-b06001467756",
   "metadata": {},
   "outputs": [],
   "source": [
    "# logdir=\"logs/cnn_model/\" + datetime.now().strftime(\"%y_%m_%d-%H_%M_%S_%s\")\n",
    "# tensorboard_callback = TensorBoard(log_dir=logdir)"
   ]
  },
  {
   "cell_type": "code",
   "execution_count": 30,
   "id": "608aaec6-96f3-4ae5-8aad-9d3b337ceb15",
   "metadata": {},
   "outputs": [
    {
     "name": "stdout",
     "output_type": "stream",
     "text": [
      "-----------------------------------------------------------------\n",
      "Training for fold 1 ...\n",
      "Epoch 1/10\n",
      "18/18 [==============================] - 9s 442ms/step - loss: 0.6501 - accuracy: 0.6773 - val_loss: 0.8147 - val_accuracy: 0.4820\n",
      "Epoch 2/10\n",
      "18/18 [==============================] - 8s 420ms/step - loss: 0.6168 - accuracy: 0.6936 - val_loss: 0.8994 - val_accuracy: 0.4820\n",
      "Epoch 3/10\n",
      "18/18 [==============================] - 8s 418ms/step - loss: 0.6149 - accuracy: 0.6936 - val_loss: 0.8597 - val_accuracy: 0.4820\n",
      "Epoch 4/10\n",
      "18/18 [==============================] - 7s 410ms/step - loss: 0.6133 - accuracy: 0.6936 - val_loss: 0.8123 - val_accuracy: 0.4820\n",
      "Epoch 5/10\n",
      "18/18 [==============================] - 7s 412ms/step - loss: 0.6135 - accuracy: 0.6936 - val_loss: 0.8861 - val_accuracy: 0.4820\n",
      "Epoch 6/10\n",
      "18/18 [==============================] - 7s 415ms/step - loss: 0.6139 - accuracy: 0.6936 - val_loss: 0.8599 - val_accuracy: 0.4820\n",
      "Epoch 7/10\n",
      "18/18 [==============================] - 7s 408ms/step - loss: 0.6126 - accuracy: 0.6936 - val_loss: 0.8121 - val_accuracy: 0.4820\n",
      "Epoch 8/10\n",
      "18/18 [==============================] - 7s 413ms/step - loss: 0.6146 - accuracy: 0.6936 - val_loss: 0.8160 - val_accuracy: 0.4820\n",
      "Epoch 9/10\n",
      "18/18 [==============================] - 7s 413ms/step - loss: 0.6127 - accuracy: 0.6936 - val_loss: 0.8516 - val_accuracy: 0.4820\n",
      "Epoch 10/10\n",
      "18/18 [==============================] - 7s 409ms/step - loss: 0.6132 - accuracy: 0.6936 - val_loss: 0.8410 - val_accuracy: 0.4820\n",
      "Score for fold 1: loss of 0.8409850597381592; accuracy of 48.19944500923157%\n",
      "-----------------------------------------------------------------\n",
      "Training for fold 2 ...\n",
      "Epoch 1/10\n",
      "18/18 [==============================] - 8s 447ms/step - loss: 0.6275 - accuracy: 0.6894 - val_loss: 0.7251 - val_accuracy: 0.5042\n",
      "Epoch 2/10\n",
      "18/18 [==============================] - 7s 402ms/step - loss: 0.6307 - accuracy: 0.6894 - val_loss: 0.7379 - val_accuracy: 0.5042\n",
      "Epoch 3/10\n",
      "18/18 [==============================] - 8s 423ms/step - loss: 0.6250 - accuracy: 0.6894 - val_loss: 0.7358 - val_accuracy: 0.5042\n",
      "Epoch 4/10\n",
      "18/18 [==============================] - 6s 315ms/step - loss: 0.6241 - accuracy: 0.6894 - val_loss: 0.7835 - val_accuracy: 0.4873\n",
      "Epoch 5/10\n",
      "18/18 [==============================] - 6s 311ms/step - loss: 0.6244 - accuracy: 0.6885 - val_loss: 0.7558 - val_accuracy: 0.5042\n",
      "Epoch 6/10\n",
      "18/18 [==============================] - 5s 303ms/step - loss: 0.6227 - accuracy: 0.6894 - val_loss: 0.7797 - val_accuracy: 0.5042\n",
      "Epoch 7/10\n",
      "18/18 [==============================] - 6s 316ms/step - loss: 0.6181 - accuracy: 0.6885 - val_loss: 0.9226 - val_accuracy: 0.3711\n",
      "Epoch 8/10\n",
      "18/18 [==============================] - 6s 327ms/step - loss: 0.6124 - accuracy: 0.6864 - val_loss: 0.8601 - val_accuracy: 0.5042\n",
      "Epoch 9/10\n",
      "18/18 [==============================] - 5s 303ms/step - loss: 0.6096 - accuracy: 0.6894 - val_loss: 0.8939 - val_accuracy: 0.5042\n",
      "Epoch 10/10\n",
      "18/18 [==============================] - 5s 277ms/step - loss: 0.6110 - accuracy: 0.6820 - val_loss: 0.8857 - val_accuracy: 0.3569\n",
      "Score for fold 2: loss of 0.8856735229492188; accuracy of 35.694050788879395%\n",
      "-----------------------------------------------------------------\n",
      "Training for fold 3 ...\n",
      "Epoch 1/10\n",
      "18/18 [==============================] - 6s 316ms/step - loss: 0.6231 - accuracy: 0.6895 - val_loss: 0.7894 - val_accuracy: 0.5070\n",
      "Epoch 2/10\n",
      "18/18 [==============================] - 5s 304ms/step - loss: 0.6147 - accuracy: 0.6895 - val_loss: 0.8853 - val_accuracy: 0.5070\n",
      "Epoch 3/10\n",
      "18/18 [==============================] - 6s 307ms/step - loss: 0.6083 - accuracy: 0.6895 - val_loss: 0.8845 - val_accuracy: 0.5070\n",
      "Epoch 4/10\n",
      "18/18 [==============================] - 5s 295ms/step - loss: 0.6128 - accuracy: 0.6895 - val_loss: 0.8978 - val_accuracy: 0.5070\n",
      "Epoch 5/10\n",
      "18/18 [==============================] - 5s 301ms/step - loss: 0.6103 - accuracy: 0.6895 - val_loss: 0.9983 - val_accuracy: 0.5070\n",
      "Epoch 6/10\n",
      "18/18 [==============================] - 5s 292ms/step - loss: 0.6024 - accuracy: 0.6895 - val_loss: 1.1436 - val_accuracy: 0.5070\n",
      "Epoch 7/10\n",
      "18/18 [==============================] - 5s 296ms/step - loss: 0.6076 - accuracy: 0.6895 - val_loss: 1.0545 - val_accuracy: 0.5070\n",
      "Epoch 8/10\n",
      "18/18 [==============================] - 6s 311ms/step - loss: 0.5998 - accuracy: 0.6895 - val_loss: 1.1714 - val_accuracy: 0.5070\n",
      "Epoch 9/10\n",
      "18/18 [==============================] - 5s 298ms/step - loss: 0.5985 - accuracy: 0.6895 - val_loss: 0.9381 - val_accuracy: 0.5070\n",
      "Epoch 10/10\n",
      "18/18 [==============================] - 5s 300ms/step - loss: 0.5990 - accuracy: 0.6895 - val_loss: 1.1157 - val_accuracy: 0.5070\n",
      "Score for fold 3: loss of 1.1157029867172241; accuracy of 50.69637894630432%\n",
      "-----------------------------------------------------------------\n",
      "Training for fold 4 ...\n",
      "Epoch 1/10\n",
      "13/13 [==============================] - 5s 390ms/step - loss: 0.7081 - accuracy: 0.5469 - val_loss: 0.6021 - val_accuracy: 0.8429\n",
      "Epoch 2/10\n",
      "13/13 [==============================] - 5s 381ms/step - loss: 0.6863 - accuracy: 0.5463 - val_loss: 0.6980 - val_accuracy: 0.4029\n",
      "Epoch 3/10\n",
      "13/13 [==============================] - 5s 379ms/step - loss: 0.6842 - accuracy: 0.5431 - val_loss: 0.6780 - val_accuracy: 0.8429\n",
      "Epoch 4/10\n",
      "13/13 [==============================] - 5s 418ms/step - loss: 0.6699 - accuracy: 0.5488 - val_loss: 0.7380 - val_accuracy: 0.2781\n",
      "Epoch 5/10\n",
      "13/13 [==============================] - 5s 385ms/step - loss: 0.6552 - accuracy: 0.5494 - val_loss: 0.7557 - val_accuracy: 0.1724\n",
      "Epoch 6/10\n",
      "13/13 [==============================] - 5s 390ms/step - loss: 0.6579 - accuracy: 0.5532 - val_loss: 0.7021 - val_accuracy: 0.8429\n",
      "Epoch 7/10\n",
      "13/13 [==============================] - 5s 399ms/step - loss: 0.6636 - accuracy: 0.5463 - val_loss: 0.7351 - val_accuracy: 0.1848\n",
      "Epoch 8/10\n",
      "13/13 [==============================] - 5s 399ms/step - loss: 0.6556 - accuracy: 0.5469 - val_loss: 0.9597 - val_accuracy: 0.4352\n",
      "Epoch 9/10\n",
      "13/13 [==============================] - 5s 395ms/step - loss: 0.6499 - accuracy: 0.5362 - val_loss: 0.9659 - val_accuracy: 0.7800\n",
      "Epoch 10/10\n",
      "13/13 [==============================] - 5s 384ms/step - loss: 0.6408 - accuracy: 0.5500 - val_loss: 1.0076 - val_accuracy: 0.3181\n",
      "Score for fold 4: loss of 1.0075517892837524; accuracy of 31.809523701667786%\n",
      "-----------------------------------------------------------------\n",
      "Training for fold 5 ...\n",
      "Epoch 1/10\n",
      "18/18 [==============================] - 7s 364ms/step - loss: 0.6722 - accuracy: 0.6445 - val_loss: 0.9009 - val_accuracy: 0.4692\n",
      "Epoch 2/10\n",
      "18/18 [==============================] - 6s 333ms/step - loss: 0.6143 - accuracy: 0.6936 - val_loss: 0.8775 - val_accuracy: 0.4692\n",
      "Epoch 3/10\n",
      "18/18 [==============================] - 6s 335ms/step - loss: 0.6088 - accuracy: 0.6936 - val_loss: 0.9014 - val_accuracy: 0.4692\n",
      "Epoch 4/10\n",
      "18/18 [==============================] - 6s 330ms/step - loss: 0.5995 - accuracy: 0.6936 - val_loss: 1.0201 - val_accuracy: 0.4692\n",
      "Epoch 5/10\n",
      "18/18 [==============================] - 6s 333ms/step - loss: 0.5888 - accuracy: 0.6936 - val_loss: 1.4495 - val_accuracy: 0.4692\n",
      "Epoch 6/10\n",
      "18/18 [==============================] - 6s 327ms/step - loss: 0.5791 - accuracy: 0.6936 - val_loss: 1.9274 - val_accuracy: 0.4692\n",
      "Epoch 7/10\n",
      "18/18 [==============================] - 6s 326ms/step - loss: 0.5678 - accuracy: 0.6936 - val_loss: 2.2778 - val_accuracy: 0.4692\n",
      "Epoch 8/10\n",
      "18/18 [==============================] - 6s 320ms/step - loss: 0.5657 - accuracy: 0.6936 - val_loss: 2.4389 - val_accuracy: 0.4692\n",
      "Epoch 9/10\n",
      "18/18 [==============================] - 6s 321ms/step - loss: 0.5596 - accuracy: 0.6936 - val_loss: 2.8665 - val_accuracy: 0.4692\n",
      "Epoch 10/10\n",
      "18/18 [==============================] - 6s 321ms/step - loss: 0.5588 - accuracy: 0.6936 - val_loss: 3.0119 - val_accuracy: 0.4692\n",
      "Score for fold 5: loss of 3.011908531188965; accuracy of 46.92082107067108%\n",
      "=================================================================\n",
      "Score per fold\n",
      "-----------------------------------------------------------------\n",
      "> Fold 1 - Loss: 0.840985 - Accuracy: 48.199445\n",
      "-----------------------------------------------------------------\n",
      "> Fold 2 - Loss: 0.885674 - Accuracy: 35.694051\n",
      "-----------------------------------------------------------------\n",
      "> Fold 3 - Loss: 1.115703 - Accuracy: 50.696379\n",
      "-----------------------------------------------------------------\n",
      "> Fold 4 - Loss: 1.007552 - Accuracy: 31.809524\n",
      "-----------------------------------------------------------------\n",
      "> Fold 5 - Loss: 3.011909 - Accuracy: 46.920821\n",
      "=================================================================\n",
      "Average scores for all folds:\n",
      "> Accuracy: 42.66404390335083 (+- 7.479045879281499)\n",
      "> Loss: 1.372364377975464\n",
      "=================================================================\n"
     ]
    }
   ],
   "source": [
    "acc_per_fold = []\n",
    "loss_per_fold = []\n",
    "history = []\n",
    "fold_no = 1\n",
    "\n",
    "for i in dist:\n",
    "    inputs, outputs = {\"train\": [], \"test\": []}, {\"train\": [], \"test\": []}\n",
    "    for keys, vals in images.items():\n",
    "        bool_val = 0 if keys == \"human\" else 1\n",
    "        for k, v in vals.items():\n",
    "            var = 'train' if k in i[0] else 'test'\n",
    "            inputs[var].extend(v)\n",
    "            outputs[var].extend([bool_val] * len(v))\n",
    "    for j in [inputs, outputs]:\n",
    "        for k in j.keys():\n",
    "            j[k] = np.stack(j[k], axis=0)\n",
    "    inputs['train'], outputs['train'] = shuffle(inputs['train'], outputs['train'])\n",
    "    inputs['test'], outputs['test'] = shuffle(inputs['test'], outputs['test'])\n",
    "    inputs['train'], inputs['test'] = inputs['train']/255., inputs['test']/255.\n",
    "    \n",
    "    # Generate a print\n",
    "    print('-----------------------------------------------------------------')\n",
    "    print('Training for fold', fold_no, '...')\n",
    "\n",
    "    # Fit data to model\n",
    "    history.append(cnn_model.fit(inputs['train'], outputs['train'],\n",
    "                                 batch_size=batch_size,\n",
    "                                 epochs=epochs,\n",
    "                                 verbose=verbose,\n",
    "#                                  callbacks=[TensorBoard(log_dir=logdir+str(fold_no))],\n",
    "                                 validation_data=(inputs['test'], outputs['test'])\n",
    "                                )\n",
    "                  )\n",
    "#     Generate generalization metrics\n",
    "    scores = cnn_model.evaluate(inputs['test'], outputs['test'], verbose=0)\n",
    "    print('Score for fold {0}: {1} of {2}; {3} of {4}%'.format(fold_no, cnn_model.metrics_names[0], scores[0], cnn_model.metrics_names[1], scores[1]*100))\n",
    "    acc_per_fold.append(scores[1] * 100)\n",
    "    loss_per_fold.append(scores[0])\n",
    "\n",
    "    # Increase fold number\n",
    "    fold_no += 1\n",
    "    \n",
    "# == Provide average scores ==\n",
    "print('=================================================================')\n",
    "print('Score per fold')\n",
    "for idx, i in enumerate(zip(loss_per_fold, acc_per_fold)):\n",
    "    print('-----------------------------------------------------------------')\n",
    "    print('> Fold {0} - Loss: {1:.6f} - Accuracy: {2:.6f}'.format(idx+1, i[0], i[1]))\n",
    "print('=================================================================')\n",
    "print('Average scores for all folds:')\n",
    "print(f'> Accuracy: {np.mean(acc_per_fold)} (+- {np.std(acc_per_fold)})')\n",
    "print(f'> Loss: {np.mean(loss_per_fold)}')\n",
    "print('=================================================================')"
   ]
  },
  {
   "cell_type": "code",
   "execution_count": 18,
   "id": "db1a21c2-3668-4e43-9324-50be197fc4e2",
   "metadata": {},
   "outputs": [],
   "source": [
    "# %tensorboard --logdir logs"
   ]
  },
  {
   "cell_type": "code",
   "execution_count": null,
   "id": "24ac54f9",
   "metadata": {},
   "outputs": [],
   "source": []
  }
 ],
 "metadata": {
  "kernelspec": {
   "display_name": "Python 3 (ipykernel)",
   "language": "python",
   "name": "python3"
  },
  "language_info": {
   "codemirror_mode": {
    "name": "ipython",
    "version": 3
   },
   "file_extension": ".py",
   "mimetype": "text/x-python",
   "name": "python",
   "nbconvert_exporter": "python",
   "pygments_lexer": "ipython3",
   "version": "3.9.7"
  }
 },
 "nbformat": 4,
 "nbformat_minor": 5
}
