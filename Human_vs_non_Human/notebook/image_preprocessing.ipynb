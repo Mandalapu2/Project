{
 "cells": [
  {
   "cell_type": "markdown",
   "id": "available-legend",
   "metadata": {},
   "source": [
    "# Import modules"
   ]
  },
  {
   "cell_type": "code",
   "execution_count": 9,
   "id": "meaning-transition",
   "metadata": {},
   "outputs": [],
   "source": [
    "import os\n",
    "import fnmatch\n",
    "from math import ceil\n",
    "\n",
    "import cv2\n",
    "import numpy as np\n",
    "import matplotlib.pyplot as plt"
   ]
  },
  {
   "cell_type": "code",
   "execution_count": 10,
   "id": "complex-blogger",
   "metadata": {},
   "outputs": [],
   "source": [
    "images, groups = {}, [\"human\", \"non-human\"]\n",
    "for group in groups:\n",
    "    images.update({group: []})\n",
    "    img_dir = os.path.join(\"C:/Users/jahna/OneDrive/Documents/GitHub/Project/classfication_human_vs_non_human/data/original\", group)\n",
    "    for path, sub_dirs, files in os.walk(img_dir):\n",
    "        for file in fnmatch.filter(files, \"*.png\"):\n",
    "            images[group].append(os.path.join(path, file))"
   ]
  },
  {
   "cell_type": "code",
   "execution_count": 19,
   "id": "cheap-heading",
   "metadata": {},
   "outputs": [
    {
     "name": "stdout",
     "output_type": "stream",
     "text": [
      "C:/Users/jahna/OneDrive/Documents/GitHub/Project/classfication_human_vs_non_human/data/original\\human\\1.png\n",
      "C:/Users/jahna/OneDrive/Documents/GitHub/Project/classfication_human_vs_non_human/data/original\\human\\3.png\n",
      "C:/Users/jahna/OneDrive/Documents/GitHub/Project/classfication_human_vs_non_human/data/original\\human\\4.png\n",
      "C:/Users/jahna/OneDrive/Documents/GitHub/Project/classfication_human_vs_non_human/data/original\\human\\5.png\n",
      "C:/Users/jahna/OneDrive/Documents/GitHub/Project/classfication_human_vs_non_human/data/original\\human\\7.png\n"
     ]
    }
   ],
   "source": [
    "x_break, y_break = 16, 16\n",
    "\n",
    "human_folder = \"C:/Users/jahna/OneDrive/Documents/GitHub/Project/classfication_human_vs_non_human/data/cropped/{}x{}/human\".format(x_break, y_break)\n",
    "non_human_folder = \"C:/Users/jahna/OneDrive/Documents/GitHub/Project/classfication_human_vs_non_human/data/cropped/{}x{}/non_human\".format(x_break, y_break)\n",
    "if not os.path.exists(human_folder): os.makedirs(human_folder)\n",
    "if not os.path.exists(non_human_folder): os.makedirs(non_human_folder)\n",
    "for idx, img_path in enumerate(images['human']):\n",
    "    print(img_path)\n",
    "    img_name = img_path.split(\"/\")[-1].split(\".\")[0]\n",
    "    img_name = img_name.split('\\\\')[-1]\n",
    "    img = cv2.imread(img_path)\n",
    "    preview_img = cv2.cvtColor(img, cv2.COLOR_BGR2RGB)\n",
    "    height, width, depth = img.shape\n",
    "    s_height = ceil(height/y_break)\n",
    "    s_width = ceil(width/x_break)\n",
    "    for i in range(y_break):\n",
    "        for j in range(x_break):\n",
    "            temp = img[i*s_height:(i+1)*s_height, j*s_width:(j+1)*s_width]\n",
    "            white_pix = len(np.where(temp == 255)[0])\n",
    "            if white_pix < 0.7*temp.shape[0]*temp.shape[1]:\n",
    "                cv2.imwrite(\"{}/{}_{}_{}.png\".format(human_folder, img_name, i, j), temp)\n",
    "for idx, img_path in enumerate(images['non-human']):\n",
    "    print(img_path)\n",
    "    img_name = img_path.split(\"/\")[-1].split(\".\")[0]\n",
    "    img_name = img_name.split('\\\\')[-1]\n",
    "    img = cv2.imread(img_path)\n",
    "    preview_img = cv2.cvtColor(img, cv2.COLOR_BGR2RGB)\n",
    "    height, width, depth = img.shape\n",
    "    s_height = ceil(height/y_break)\n",
    "    s_width = ceil(width/x_break)\n",
    "    for i in range(y_break):\n",
    "        for j in range(x_break):\n",
    "            temp = img[i*s_height:(i+1)*s_height, j*s_width:(j+1)*s_width]\n",
    "            white_pix = len(np.where(temp == 255)[0])\n",
    "            if white_pix < 0.7*temp.shape[0]*temp.shape[1]:\n",
    "                cv2.imwrite(\"{}/{}_{}_{}.png\".format(non_human_folder, img_name, i, j), temp)"
   ]
  },
  {
   "cell_type": "code",
   "execution_count": null,
   "id": "seven-fashion",
   "metadata": {},
   "outputs": [],
   "source": []
  }
 ],
 "metadata": {
  "kernelspec": {
   "display_name": "Python 3 (ipykernel)",
   "language": "python",
   "name": "python3"
  },
  "language_info": {
   "codemirror_mode": {
    "name": "ipython",
    "version": 3
   },
   "file_extension": ".py",
   "mimetype": "text/x-python",
   "name": "python",
   "nbconvert_exporter": "python",
   "pygments_lexer": "ipython3",
   "version": "3.9.7"
  }
 },
 "nbformat": 4,
 "nbformat_minor": 5
}
