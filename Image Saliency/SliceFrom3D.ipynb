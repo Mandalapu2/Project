{
 "cells": [
  {
   "cell_type": "code",
   "execution_count": 10,
   "metadata": {},
   "outputs": [
    {
     "name": "stdout",
     "output_type": "stream",
     "text": [
      "422\n"
     ]
    }
   ],
   "source": [
    "import fnmatch, os, shutil\n",
    "import nibabel as nib\n",
    "import matplotlib.pyplot as plt\n",
    "\n",
    "root_path = r\"D:\\research work\\Data\\required_ADNI_data\"\n",
    "new_path = r\"D:\\research work\\Data\\required_2D_Data\"\n",
    "file_name = \"*strip.img\"\n",
    "total_files = 0\n",
    "\n",
    "for root, dirs, files in os.walk(root_path):\n",
    "    for filename in fnmatch.filter(files, file_name):\n",
    "        src = os.path.join(root, filename)\n",
    "        dest = os.path.join(new_path, filename)\n",
    "        dest = dest.replace(\".5T_strip.img\",\"_128.png\")\n",
    "          \n",
    "        img1 = nib.load(src)\n",
    "        data = img1.get_fdata()\n",
    "        data = data[:, :, :, 0] \n",
    "        slice_0 = data[128, :, :]\n",
    "        slice_1 = data[:, 128, :]\n",
    "        slice_2 = data[:, :, 128]\n",
    "        fig, ax = plt.subplots()\n",
    "        ax.imshow(slice_1.T, cmap=\"gray\", origin=\"lower\")\n",
    "        plt.savefig(dest)\n",
    "        plt.close()\n",
    "        total_files = total_files + 1\n",
    "            \n",
    "print(total_files)"
   ]
  },
  {
   "cell_type": "code",
   "execution_count": 8,
   "metadata": {},
   "outputs": [
    {
     "data": {
      "text/plain": [
       "-1"
      ]
     },
     "execution_count": 8,
     "metadata": {},
     "output_type": "execute_result"
    }
   ],
   "source": [
    "import cv2\n",
    "\n",
    "image = cv2.imread(\"my.png\")\n",
    "\n",
    "saliency = cv2.saliency.StaticSaliencySpectralResidual_create()\n",
    "(success, saliencyMap) = saliency.computeSaliency(image)\n",
    "saliencyMap = (saliencyMap * 255).astype(\"uint8\")\n",
    "cv2.imshow(\"Image\", image)\n",
    "cv2.imshow(\"Output\", saliencyMap)\n",
    "cv2.waitKey(0)"
   ]
  },
  {
   "cell_type": "code",
   "execution_count": 7,
   "metadata": {},
   "outputs": [],
   "source": [
    "from PIL import Image\n",
    "import numpy as np\n",
    "\n",
    "img = Image.fromarray(image, 'RGB')\n",
    "img.save('my.png')\n",
    "img.show()"
   ]
  }
 ],
 "metadata": {
  "kernelspec": {
   "display_name": "Python 3",
   "language": "python",
   "name": "python3"
  },
  "language_info": {
   "codemirror_mode": {
    "name": "ipython",
    "version": 3
   },
   "file_extension": ".py",
   "mimetype": "text/x-python",
   "name": "python",
   "nbconvert_exporter": "python",
   "pygments_lexer": "ipython3",
   "version": "3.7.4"
  }
 },
 "nbformat": 4,
 "nbformat_minor": 2
}
