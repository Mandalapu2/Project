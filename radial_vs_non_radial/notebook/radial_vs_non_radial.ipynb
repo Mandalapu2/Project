{
 "cells": [
  {
   "cell_type": "code",
   "execution_count": 2,
   "id": "0c4d552a-4916-478d-b7fd-d26da61219b5",
   "metadata": {},
   "outputs": [],
   "source": [
    "import os\n",
    "import fnmatch\n",
    "import cv2\n",
    "import random\n",
    "from datetime import datetime\n",
    "import numpy as np\n",
    "from sklearn.utils import shuffle"
   ]
  },
  {
   "cell_type": "code",
   "execution_count": 3,
   "id": "d84eaf36-45cb-409c-bdab-0d961250c06d",
   "metadata": {},
   "outputs": [],
   "source": [
    "# # Load the TensorBoard notebook extension\n",
    "# %load_ext tensorboard"
   ]
  },
  {
   "cell_type": "code",
   "execution_count": 4,
   "id": "bf18fe44-7657-4925-a5dd-3834a2edb9aa",
   "metadata": {},
   "outputs": [],
   "source": [
    "from tensorflow.keras.callbacks import TensorBoard\n",
    "from tensorflow.keras.models import Sequential\n",
    "from tensorflow.keras.layers import Conv2D, MaxPooling2D, Flatten, Dense\n",
    "from tensorflow.keras.optimizers import RMSprop, Adam, SGD"
   ]
  },
  {
   "cell_type": "markdown",
   "id": "a2301a5a-a347-4fad-bbb7-a95f24a392d2",
   "metadata": {},
   "source": [
    "# Load images as numpy array"
   ]
  },
  {
   "cell_type": "code",
   "execution_count": 5,
   "id": "2a954517-a0bb-4e25-b360-52bf549db66d",
   "metadata": {},
   "outputs": [],
   "source": [
    "images = {\"radial\": {}, \"non-radial\": {}}\n",
    "for path, sub_dirs, files in os.walk(\"data/cropped/16x16\"):\n",
    "    for file in fnmatch.filter(files, \"*.png\"):\n",
    "        file_path = os.path.join(path, file)\n",
    "        img = file_path.split(\"/\")[-1].split(\"_\")[0]\n",
    "        if \"non-radial\" in file_path:\n",
    "            images['non-radial'].update({img: images['non-radial'].get(img, []) + [cv2.imread(file_path)]})\n",
    "        else:\n",
    "            images['radial'].update({img: images['radial'].get(img, []) + [cv2.imread(file_path)]})"
   ]
  },
  {
   "cell_type": "markdown",
   "id": "a0362a29-7167-4094-b34f-3226d243936e",
   "metadata": {},
   "source": [
    "### Shape of image"
   ]
  },
  {
   "cell_type": "code",
   "execution_count": 12,
   "id": "69088b23-fd41-4d9e-a1f0-b123099389f8",
   "metadata": {},
   "outputs": [
    {
     "data": {
      "text/plain": [
       "(120, 120, 3)"
      ]
     },
     "execution_count": 12,
     "metadata": {},
     "output_type": "execute_result"
    }
   ],
   "source": [
    "in_shape = images['radial'][list(images['radial'].keys())[0]][0].shape\n",
    "in_shape"
   ]
  },
  {
   "cell_type": "markdown",
   "id": "be3a8a40-4cc6-4d20-ba69-3222bf2d5766",
   "metadata": {},
   "source": [
    "# Hyperparameters"
   ]
  },
  {
   "cell_type": "code",
   "execution_count": 6,
   "id": "0b597b8b-4a78-4f75-b1ab-60910f5845b9",
   "metadata": {},
   "outputs": [],
   "source": [
    "batch_size = 128\n",
    "epochs = 10\n",
    "verbose = 1\n",
    "learning_rate = 0.001\n",
    "# mom = 0.9 # momentum\n",
    "input_shape = in_shape # (120, 120, 3) if 16x16 images selected"
   ]
  },
  {
   "cell_type": "markdown",
   "id": "06ee26e5-a879-4870-8822-980e9dd6ed7a",
   "metadata": {},
   "source": [
    "# Create cross validation set - leave one out"
   ]
  },
  {
   "cell_type": "code",
   "execution_count": 7,
   "id": "9a02b7c5-b44d-4922-8d80-ac45282d80d9",
   "metadata": {},
   "outputs": [],
   "source": [
    "random.seed(1)\n",
    "non_radial_rand = random.sample([i for i in images['non-radial'].keys() if i not in list(images['radial'].keys())], k = images['radial'].__len__())\n",
    "dist = []\n",
    "for idx, i in enumerate(list(images['radial'].keys())):\n",
    "    choices = [i, non_radial_rand[idx]]\n",
    "    rem = list(set(i for k, v in images.items() for i in v.keys() if i not in choices))\n",
    "    dist.append([rem, choices])"
   ]
  },
  {
   "cell_type": "markdown",
   "id": "49e85d75-1430-4c46-b312-29d92b3ebd50",
   "metadata": {},
   "source": [
    "### Now we have seven folds where in each fold, one image from radial and one from non-radial are left out for model evaluation"
   ]
  },
  {
   "cell_type": "markdown",
   "id": "46e7e318-e106-4d09-8842-644a2154f045",
   "metadata": {},
   "source": [
    "# Define the model architecture"
   ]
  },
  {
   "cell_type": "code",
   "execution_count": 8,
   "id": "ce269e7e-de4a-4657-b1ce-13197a0eae7e",
   "metadata": {},
   "outputs": [],
   "source": [
    "cnn_model = Sequential([\n",
    "    Conv2D(8, (3,3), activation='relu', input_shape=in_shape, name=\"CONVOLUTION_2D_1\"),\n",
    "    MaxPooling2D((2,2), name=\"MAXPOOL_2D_1\"),\n",
    "    Conv2D(16, (3,3), activation='relu', name='CONVOLUTION_2D_2'),\n",
    "    MaxPooling2D((2,2), name=\"MAXPOOL_2D_2\"),\n",
    "    Conv2D(32, (3,3), activation='relu', name='CONVOLUTION_2D_3'),\n",
    "    MaxPooling2D((2,2), name=\"MAXPOOL_2D_3\"),\n",
    "    Flatten(name=\"FLATTEN\"),\n",
    "    Dense(256, activation='relu', name=\"DENSE\"),\n",
    "    Dense(1, activation='sigmoid', name=\"SIGMOID\")\n",
    "], name='RADIAL_CNN')"
   ]
  },
  {
   "cell_type": "markdown",
   "id": "7a15e3b5-5c15-46c5-83a3-cbb35fbc144b",
   "metadata": {},
   "source": [
    "# Compile the model"
   ]
  },
  {
   "cell_type": "code",
   "execution_count": 9,
   "id": "1c566452-df2f-4c28-bead-d7f5170982c9",
   "metadata": {},
   "outputs": [
    {
     "name": "stdout",
     "output_type": "stream",
     "text": [
      "Model: \"RADIAL_CNN\"\n",
      "_________________________________________________________________\n",
      "Layer (type)                 Output Shape              Param #   \n",
      "=================================================================\n",
      "CONVOLUTION_2D_1 (Conv2D)    (None, 118, 118, 8)       224       \n",
      "_________________________________________________________________\n",
      "MAXPOOL_2D_1 (MaxPooling2D)  (None, 59, 59, 8)         0         \n",
      "_________________________________________________________________\n",
      "CONVOLUTION_2D_2 (Conv2D)    (None, 57, 57, 16)        1168      \n",
      "_________________________________________________________________\n",
      "MAXPOOL_2D_2 (MaxPooling2D)  (None, 28, 28, 16)        0         \n",
      "_________________________________________________________________\n",
      "CONVOLUTION_2D_3 (Conv2D)    (None, 26, 26, 32)        4640      \n",
      "_________________________________________________________________\n",
      "MAXPOOL_2D_3 (MaxPooling2D)  (None, 13, 13, 32)        0         \n",
      "_________________________________________________________________\n",
      "FLATTEN (Flatten)            (None, 5408)              0         \n",
      "_________________________________________________________________\n",
      "DENSE (Dense)                (None, 256)               1384704   \n",
      "_________________________________________________________________\n",
      "SIGMOID (Dense)              (None, 1)                 257       \n",
      "=================================================================\n",
      "Total params: 1,390,993\n",
      "Trainable params: 1,390,993\n",
      "Non-trainable params: 0\n",
      "_________________________________________________________________\n"
     ]
    }
   ],
   "source": [
    "cnn_model.compile(\n",
    "    loss='binary_crossentropy',\n",
    "    optimizer=Adam(lr=learning_rate),\n",
    "    metrics=['accuracy']\n",
    ")\n",
    "cnn_model.summary()"
   ]
  },
  {
   "cell_type": "markdown",
   "id": "7643f5c9-d352-4ed3-8ab7-804813ee75e5",
   "metadata": {},
   "source": [
    "# Define the Keras TensorBoard callback"
   ]
  },
  {
   "cell_type": "code",
   "execution_count": 10,
   "id": "29e76690-7b52-4585-a701-b06001467756",
   "metadata": {},
   "outputs": [],
   "source": [
    "# logdir=\"logs/cnn_model/\" + datetime.now().strftime(\"%y_%m_%d-%H_%M_%S_%s\")\n",
    "# tensorboard_callback = TensorBoard(log_dir=logdir)"
   ]
  },
  {
   "cell_type": "code",
   "execution_count": 11,
   "id": "608aaec6-96f3-4ae5-8aad-9d3b337ceb15",
   "metadata": {},
   "outputs": [
    {
     "name": "stdout",
     "output_type": "stream",
     "text": [
      "-----------------------------------------------------------------\n",
      "Training for fold 1 ...\n",
      "Epoch 1/10\n",
      " 2/19 [==>...........................] - ETA: 0s - loss: 0.8482 - accuracy: 0.7266WARNING:tensorflow:Callbacks method `on_train_batch_end` is slow compared to the batch time (batch time: 0.0294s vs `on_train_batch_end` time: 0.0463s). Check your callbacks.\n",
      "19/19 [==============================] - 2s 113ms/step - loss: 0.5670 - accuracy: 0.7826 - val_loss: 0.4692 - val_accuracy: 0.8305\n",
      "Epoch 2/10\n",
      "19/19 [==============================] - 2s 80ms/step - loss: 0.5086 - accuracy: 0.7920 - val_loss: 0.4684 - val_accuracy: 0.8305\n",
      "Epoch 3/10\n",
      "19/19 [==============================] - 2s 81ms/step - loss: 0.5018 - accuracy: 0.7972 - val_loss: 0.4590 - val_accuracy: 0.8305\n",
      "Epoch 4/10\n",
      "19/19 [==============================] - 1s 79ms/step - loss: 0.4763 - accuracy: 0.8079 - val_loss: 0.5108 - val_accuracy: 0.8305\n",
      "Epoch 5/10\n",
      "19/19 [==============================] - 1s 77ms/step - loss: 0.4875 - accuracy: 0.8160 - val_loss: 0.4522 - val_accuracy: 0.8305\n",
      "Epoch 6/10\n",
      "19/19 [==============================] - 1s 77ms/step - loss: 0.4480 - accuracy: 0.8169 - val_loss: 0.4500 - val_accuracy: 0.8305\n",
      "Epoch 7/10\n",
      "19/19 [==============================] - 1s 79ms/step - loss: 0.4069 - accuracy: 0.8190 - val_loss: 0.4713 - val_accuracy: 0.8276\n",
      "Epoch 8/10\n",
      "19/19 [==============================] - 2s 81ms/step - loss: 0.3796 - accuracy: 0.8310 - val_loss: 0.5494 - val_accuracy: 0.8276\n",
      "Epoch 9/10\n",
      "19/19 [==============================] - 2s 81ms/step - loss: 0.3713 - accuracy: 0.8370 - val_loss: 0.4663 - val_accuracy: 0.8276\n",
      "Epoch 10/10\n",
      "19/19 [==============================] - 1s 78ms/step - loss: 0.3631 - accuracy: 0.8353 - val_loss: 0.4244 - val_accuracy: 0.8247\n",
      "Score for fold 1: loss of 0.42435121536254883; accuracy of 82.47126340866089%\n",
      "-----------------------------------------------------------------\n",
      "Training for fold 2 ...\n",
      "Epoch 1/10\n",
      " 2/19 [==>...........................] - ETA: 1s - loss: 0.3274 - accuracy: 0.8672WARNING:tensorflow:Callbacks method `on_train_batch_end` is slow compared to the batch time (batch time: 0.0309s vs `on_train_batch_end` time: 0.0492s). Check your callbacks.\n",
      "19/19 [==============================] - 2s 111ms/step - loss: 0.3330 - accuracy: 0.8413 - val_loss: 0.4115 - val_accuracy: 0.8116\n",
      "Epoch 2/10\n",
      "19/19 [==============================] - 2s 83ms/step - loss: 0.3438 - accuracy: 0.8366 - val_loss: 0.3817 - val_accuracy: 0.8237\n",
      "Epoch 3/10\n",
      "19/19 [==============================] - 2s 81ms/step - loss: 0.3133 - accuracy: 0.8497 - val_loss: 0.4430 - val_accuracy: 0.8116\n",
      "Epoch 4/10\n",
      "19/19 [==============================] - 2s 82ms/step - loss: 0.3109 - accuracy: 0.8472 - val_loss: 0.6061 - val_accuracy: 0.8085\n",
      "Epoch 5/10\n",
      "19/19 [==============================] - 2s 81ms/step - loss: 0.3489 - accuracy: 0.8421 - val_loss: 0.4313 - val_accuracy: 0.8055\n",
      "Epoch 6/10\n",
      "19/19 [==============================] - 2s 82ms/step - loss: 0.3200 - accuracy: 0.8489 - val_loss: 0.4313 - val_accuracy: 0.8085\n",
      "Epoch 7/10\n",
      "19/19 [==============================] - 2s 82ms/step - loss: 0.2987 - accuracy: 0.8582 - val_loss: 0.3979 - val_accuracy: 0.8146\n",
      "Epoch 8/10\n",
      "19/19 [==============================] - 2s 81ms/step - loss: 0.2717 - accuracy: 0.8765 - val_loss: 0.4180 - val_accuracy: 0.8176\n",
      "Epoch 9/10\n",
      "19/19 [==============================] - 2s 81ms/step - loss: 0.2615 - accuracy: 0.8778 - val_loss: 0.4128 - val_accuracy: 0.8146\n",
      "Epoch 10/10\n",
      "19/19 [==============================] - 2s 80ms/step - loss: 0.2704 - accuracy: 0.8769 - val_loss: 0.4750 - val_accuracy: 0.8055\n",
      "Score for fold 2: loss of 0.4750138819217682; accuracy of 80.5471122264862%\n",
      "-----------------------------------------------------------------\n",
      "Training for fold 3 ...\n",
      "Epoch 1/10\n",
      " 2/19 [==>...........................] - ETA: 1s - loss: 0.2465 - accuracy: 0.9023WARNING:tensorflow:Callbacks method `on_train_batch_end` is slow compared to the batch time (batch time: 0.0292s vs `on_train_batch_end` time: 0.0478s). Check your callbacks.\n",
      "19/19 [==============================] - 2s 116ms/step - loss: 0.2792 - accuracy: 0.8808 - val_loss: 0.2084 - val_accuracy: 0.9040\n",
      "Epoch 2/10\n",
      "19/19 [==============================] - 2s 83ms/step - loss: 0.2884 - accuracy: 0.8666 - val_loss: 0.2158 - val_accuracy: 0.9040\n",
      "Epoch 3/10\n",
      "19/19 [==============================] - 2s 82ms/step - loss: 0.2722 - accuracy: 0.8800 - val_loss: 0.2167 - val_accuracy: 0.9139\n",
      "Epoch 4/10\n",
      "19/19 [==============================] - 2s 83ms/step - loss: 0.2451 - accuracy: 0.8963 - val_loss: 0.2058 - val_accuracy: 0.9040\n",
      "Epoch 5/10\n",
      "19/19 [==============================] - 2s 83ms/step - loss: 0.2524 - accuracy: 0.8871 - val_loss: 0.2875 - val_accuracy: 0.8377\n",
      "Epoch 6/10\n",
      "19/19 [==============================] - 2s 84ms/step - loss: 0.2324 - accuracy: 0.9052 - val_loss: 0.2271 - val_accuracy: 0.8974\n",
      "Epoch 7/10\n",
      "19/19 [==============================] - 2s 84ms/step - loss: 0.2082 - accuracy: 0.9127 - val_loss: 0.2617 - val_accuracy: 0.8609\n",
      "Epoch 8/10\n",
      "19/19 [==============================] - 2s 83ms/step - loss: 0.1930 - accuracy: 0.9211 - val_loss: 0.1989 - val_accuracy: 0.9073\n",
      "Epoch 9/10\n",
      "19/19 [==============================] - 2s 83ms/step - loss: 0.2018 - accuracy: 0.9207 - val_loss: 0.2423 - val_accuracy: 0.8940\n",
      "Epoch 10/10\n",
      "19/19 [==============================] - 2s 84ms/step - loss: 0.2081 - accuracy: 0.9123 - val_loss: 0.2143 - val_accuracy: 0.9040\n",
      "Score for fold 3: loss of 0.21426540613174438; accuracy of 90.39735198020935%\n",
      "-----------------------------------------------------------------\n",
      "Training for fold 4 ...\n",
      "Epoch 1/10\n",
      " 2/19 [==>...........................] - ETA: 1s - loss: 0.1818 - accuracy: 0.9297WARNING:tensorflow:Callbacks method `on_train_batch_end` is slow compared to the batch time (batch time: 0.0300s vs `on_train_batch_end` time: 0.0470s). Check your callbacks.\n",
      "19/19 [==============================] - 2s 113ms/step - loss: 0.1867 - accuracy: 0.9246 - val_loss: 0.1806 - val_accuracy: 0.9339\n",
      "Epoch 2/10\n",
      "19/19 [==============================] - 2s 82ms/step - loss: 0.1794 - accuracy: 0.9341 - val_loss: 0.1724 - val_accuracy: 0.9339\n",
      "Epoch 3/10\n",
      "19/19 [==============================] - 2s 81ms/step - loss: 0.1727 - accuracy: 0.9341 - val_loss: 0.2147 - val_accuracy: 0.9063\n",
      "Epoch 4/10\n",
      "19/19 [==============================] - 2s 81ms/step - loss: 0.1720 - accuracy: 0.9264 - val_loss: 0.1948 - val_accuracy: 0.9091\n",
      "Epoch 5/10\n",
      "19/19 [==============================] - 2s 82ms/step - loss: 0.1434 - accuracy: 0.9427 - val_loss: 0.1875 - val_accuracy: 0.9256\n",
      "Epoch 6/10\n",
      "19/19 [==============================] - 2s 82ms/step - loss: 0.1344 - accuracy: 0.9492 - val_loss: 0.2533 - val_accuracy: 0.8898\n",
      "Epoch 7/10\n",
      "19/19 [==============================] - 2s 84ms/step - loss: 0.1311 - accuracy: 0.9509 - val_loss: 0.2225 - val_accuracy: 0.9091\n",
      "Epoch 8/10\n",
      "19/19 [==============================] - 2s 83ms/step - loss: 0.1196 - accuracy: 0.9574 - val_loss: 0.2012 - val_accuracy: 0.9201\n",
      "Epoch 9/10\n",
      "19/19 [==============================] - 2s 83ms/step - loss: 0.1143 - accuracy: 0.9595 - val_loss: 0.2002 - val_accuracy: 0.9229\n",
      "Epoch 10/10\n",
      "19/19 [==============================] - 2s 81ms/step - loss: 0.1043 - accuracy: 0.9617 - val_loss: 0.2577 - val_accuracy: 0.8788\n",
      "Score for fold 4: loss of 0.2576625645160675; accuracy of 87.87878751754761%\n",
      "-----------------------------------------------------------------\n",
      "Training for fold 5 ...\n",
      "Epoch 1/10\n",
      " 2/19 [==>...........................] - ETA: 1s - loss: 0.1216 - accuracy: 0.9648WARNING:tensorflow:Callbacks method `on_train_batch_end` is slow compared to the batch time (batch time: 0.0295s vs `on_train_batch_end` time: 0.0481s). Check your callbacks.\n",
      "19/19 [==============================] - 2s 114ms/step - loss: 0.1345 - accuracy: 0.9445 - val_loss: 0.1096 - val_accuracy: 0.9696\n",
      "Epoch 2/10\n",
      "19/19 [==============================] - 2s 83ms/step - loss: 0.1005 - accuracy: 0.9647 - val_loss: 0.0969 - val_accuracy: 0.9724\n",
      "Epoch 3/10\n",
      "19/19 [==============================] - 2s 83ms/step - loss: 0.0955 - accuracy: 0.9712 - val_loss: 0.1273 - val_accuracy: 0.9530\n",
      "Epoch 4/10\n",
      "19/19 [==============================] - 2s 83ms/step - loss: 0.0828 - accuracy: 0.9742 - val_loss: 0.1157 - val_accuracy: 0.9420\n",
      "Epoch 5/10\n",
      "19/19 [==============================] - 2s 82ms/step - loss: 0.0776 - accuracy: 0.9742 - val_loss: 0.1048 - val_accuracy: 0.9696\n",
      "Epoch 6/10\n",
      "19/19 [==============================] - 2s 81ms/step - loss: 0.0671 - accuracy: 0.9824 - val_loss: 0.1658 - val_accuracy: 0.9309\n",
      "Epoch 7/10\n",
      "19/19 [==============================] - 1s 79ms/step - loss: 0.0618 - accuracy: 0.9811 - val_loss: 0.1106 - val_accuracy: 0.9586\n",
      "Epoch 8/10\n",
      "19/19 [==============================] - 2s 84ms/step - loss: 0.0508 - accuracy: 0.9897 - val_loss: 0.1314 - val_accuracy: 0.9530\n",
      "Epoch 9/10\n",
      "19/19 [==============================] - 2s 83ms/step - loss: 0.0576 - accuracy: 0.9832 - val_loss: 0.1768 - val_accuracy: 0.9392\n",
      "Epoch 10/10\n",
      "19/19 [==============================] - 2s 81ms/step - loss: 0.0451 - accuracy: 0.9892 - val_loss: 0.1459 - val_accuracy: 0.9558\n",
      "Score for fold 5: loss of 0.14593929052352905; accuracy of 95.58011293411255%\n",
      "-----------------------------------------------------------------\n",
      "Training for fold 6 ...\n",
      "Epoch 1/10\n",
      " 2/19 [==>...........................] - ETA: 1s - loss: 0.0418 - accuracy: 0.9922WARNING:tensorflow:Callbacks method `on_train_batch_end` is slow compared to the batch time (batch time: 0.0296s vs `on_train_batch_end` time: 0.0475s). Check your callbacks.\n",
      "19/19 [==============================] - 2s 113ms/step - loss: 0.0782 - accuracy: 0.9739 - val_loss: 0.1874 - val_accuracy: 0.9104\n",
      "Epoch 2/10\n",
      "19/19 [==============================] - 2s 82ms/step - loss: 0.0808 - accuracy: 0.9735 - val_loss: 0.0960 - val_accuracy: 0.9711\n",
      "Epoch 3/10\n",
      "19/19 [==============================] - 2s 84ms/step - loss: 0.0512 - accuracy: 0.9863 - val_loss: 0.1873 - val_accuracy: 0.9075\n",
      "Epoch 4/10\n",
      "19/19 [==============================] - 2s 82ms/step - loss: 0.0455 - accuracy: 0.9880 - val_loss: 0.0776 - val_accuracy: 0.9769\n",
      "Epoch 5/10\n",
      "19/19 [==============================] - 2s 82ms/step - loss: 0.0256 - accuracy: 0.9944 - val_loss: 0.0730 - val_accuracy: 0.9740\n",
      "Epoch 6/10\n",
      "19/19 [==============================] - 2s 82ms/step - loss: 0.0262 - accuracy: 0.9962 - val_loss: 0.0738 - val_accuracy: 0.9769\n",
      "Epoch 7/10\n",
      "19/19 [==============================] - 2s 82ms/step - loss: 0.0242 - accuracy: 0.9966 - val_loss: 0.0896 - val_accuracy: 0.9624\n",
      "Epoch 8/10\n",
      "19/19 [==============================] - 2s 83ms/step - loss: 0.0208 - accuracy: 0.9979 - val_loss: 0.1215 - val_accuracy: 0.9364\n",
      "Epoch 9/10\n",
      "19/19 [==============================] - 2s 82ms/step - loss: 0.0170 - accuracy: 0.9974 - val_loss: 0.0801 - val_accuracy: 0.9740\n",
      "Epoch 10/10\n",
      "19/19 [==============================] - 2s 81ms/step - loss: 0.0163 - accuracy: 0.9974 - val_loss: 0.1168 - val_accuracy: 0.9566\n",
      "Score for fold 6: loss of 0.11678414791822433; accuracy of 95.66473960876465%\n",
      "-----------------------------------------------------------------\n",
      "Training for fold 7 ...\n",
      "Epoch 1/10\n",
      " 2/19 [==>...........................] - ETA: 1s - loss: 0.0413 - accuracy: 0.9883WARNING:tensorflow:Callbacks method `on_train_batch_end` is slow compared to the batch time (batch time: 0.0297s vs `on_train_batch_end` time: 0.0473s). Check your callbacks.\n",
      "19/19 [==============================] - 2s 118ms/step - loss: 0.0430 - accuracy: 0.9878 - val_loss: 0.0118 - val_accuracy: 1.0000\n",
      "Epoch 2/10\n",
      "19/19 [==============================] - 2s 84ms/step - loss: 0.0859 - accuracy: 0.9739 - val_loss: 0.1691 - val_accuracy: 0.9088\n",
      "Epoch 3/10\n",
      "19/19 [==============================] - 2s 84ms/step - loss: 0.0584 - accuracy: 0.9790 - val_loss: 0.0805 - val_accuracy: 0.9837\n",
      "Epoch 4/10\n",
      "19/19 [==============================] - 2s 83ms/step - loss: 0.0424 - accuracy: 0.9886 - val_loss: 0.0475 - val_accuracy: 0.9870\n",
      "Epoch 5/10\n",
      "19/19 [==============================] - 2s 83ms/step - loss: 0.0206 - accuracy: 0.9983 - val_loss: 0.0709 - val_accuracy: 0.9674\n",
      "Epoch 6/10\n",
      "19/19 [==============================] - 2s 83ms/step - loss: 0.0155 - accuracy: 0.9983 - val_loss: 0.0534 - val_accuracy: 0.9805\n",
      "Epoch 7/10\n",
      "19/19 [==============================] - 2s 84ms/step - loss: 0.0131 - accuracy: 0.9996 - val_loss: 0.0716 - val_accuracy: 0.9772\n",
      "Epoch 8/10\n",
      "19/19 [==============================] - 2s 85ms/step - loss: 0.0147 - accuracy: 0.9979 - val_loss: 0.0630 - val_accuracy: 0.9772\n",
      "Epoch 9/10\n",
      "19/19 [==============================] - 2s 89ms/step - loss: 0.0116 - accuracy: 0.9996 - val_loss: 0.0568 - val_accuracy: 0.9772\n",
      "Epoch 10/10\n",
      "19/19 [==============================] - 2s 83ms/step - loss: 0.0084 - accuracy: 1.0000 - val_loss: 0.0676 - val_accuracy: 0.9772\n",
      "Score for fold 7: loss of 0.06756526976823807; accuracy of 97.71987199783325%\n",
      "=================================================================\n",
      "Score per fold\n",
      "-----------------------------------------------------------------\n",
      "> Fold 1 - Loss: 0.424351 - Accuracy: 82.471263\n",
      "-----------------------------------------------------------------\n",
      "> Fold 2 - Loss: 0.475014 - Accuracy: 80.547112\n",
      "-----------------------------------------------------------------\n",
      "> Fold 3 - Loss: 0.214265 - Accuracy: 90.397352\n",
      "-----------------------------------------------------------------\n",
      "> Fold 4 - Loss: 0.257663 - Accuracy: 87.878788\n",
      "-----------------------------------------------------------------\n",
      "> Fold 5 - Loss: 0.145939 - Accuracy: 95.580113\n",
      "-----------------------------------------------------------------\n",
      "> Fold 6 - Loss: 0.116784 - Accuracy: 95.664740\n",
      "-----------------------------------------------------------------\n",
      "> Fold 7 - Loss: 0.067565 - Accuracy: 97.719872\n",
      "=================================================================\n",
      "Average scores for all folds:\n",
      "> Accuracy: 90.03703423908779 (+- 6.250830242269957)\n",
      "> Loss: 0.24308311087744577\n",
      "=================================================================\n"
     ]
    }
   ],
   "source": [
    "acc_per_fold = []\n",
    "loss_per_fold = []\n",
    "history = []\n",
    "fold_no = 1\n",
    "\n",
    "for i in dist:\n",
    "    inputs, outputs = {\"train\": [], \"test\": []}, {\"train\": [], \"test\": []}\n",
    "    for keys, vals in images.items():\n",
    "        bool_val = 0 if keys == \"radial\" else 1\n",
    "        for k, v in vals.items():\n",
    "            var = 'train' if k in i[0] else 'test'\n",
    "            inputs[var].extend(v)\n",
    "            outputs[var].extend([bool_val] * len(v))\n",
    "    for j in [inputs, outputs]:\n",
    "        for k in j.keys():\n",
    "            j[k] = np.stack(j[k], axis=0)\n",
    "    inputs['train'], outputs['train'] = shuffle(inputs['train'], outputs['train'])\n",
    "    inputs['test'], outputs['test'] = shuffle(inputs['test'], outputs['test'])\n",
    "    inputs['train'], inputs['test'] = inputs['train']/255., inputs['test']/255.\n",
    "    \n",
    "    # Generate a print\n",
    "    print('-----------------------------------------------------------------')\n",
    "    print('Training for fold', fold_no, '...')\n",
    "\n",
    "    # Fit data to model\n",
    "    history.append(cnn_model.fit(inputs['train'], outputs['train'],\n",
    "                                 batch_size=batch_size,\n",
    "                                 epochs=epochs,\n",
    "                                 verbose=verbose,\n",
    "#                                  callbacks=[TensorBoard(log_dir=logdir+str(fold_no))],\n",
    "                                 validation_data=(inputs['test'], outputs['test'])\n",
    "                                )\n",
    "                  )\n",
    "#     Generate generalization metrics\n",
    "    scores = cnn_model.evaluate(inputs['test'], outputs['test'], verbose=0)\n",
    "    print('Score for fold {0}: {1} of {2}; {3} of {4}%'.format(fold_no, cnn_model.metrics_names[0], scores[0], cnn_model.metrics_names[1], scores[1]*100))\n",
    "    acc_per_fold.append(scores[1] * 100)\n",
    "    loss_per_fold.append(scores[0])\n",
    "\n",
    "    # Increase fold number\n",
    "    fold_no += 1\n",
    "    \n",
    "# == Provide average scores ==\n",
    "print('=================================================================')\n",
    "print('Score per fold')\n",
    "for idx, i in enumerate(zip(loss_per_fold, acc_per_fold)):\n",
    "    print('-----------------------------------------------------------------')\n",
    "    print('> Fold {0} - Loss: {1:.6f} - Accuracy: {2:.6f}'.format(idx+1, i[0], i[1]))\n",
    "print('=================================================================')\n",
    "print('Average scores for all folds:')\n",
    "print(f'> Accuracy: {np.mean(acc_per_fold)} (+- {np.std(acc_per_fold)})')\n",
    "print(f'> Loss: {np.mean(loss_per_fold)}')\n",
    "print('=================================================================')"
   ]
  },
  {
   "cell_type": "code",
   "execution_count": 12,
   "id": "db1a21c2-3668-4e43-9324-50be197fc4e2",
   "metadata": {},
   "outputs": [],
   "source": [
    "# %tensorboard --logdir logs"
   ]
  }
 ],
 "metadata": {
  "kernelspec": {
   "display_name": "cnn_venv",
   "language": "python",
   "name": "cnn_venv"
  },
  "language_info": {
   "codemirror_mode": {
    "name": "ipython",
    "version": 3
   },
   "file_extension": ".py",
   "mimetype": "text/x-python",
   "name": "python",
   "nbconvert_exporter": "python",
   "pygments_lexer": "ipython3",
   "version": "3.7.10"
  }
 },
 "nbformat": 4,
 "nbformat_minor": 5
}
